{
 "cells": [
  {
   "cell_type": "code",
   "execution_count": 1,
   "metadata": {},
   "outputs": [],
   "source": [
    "from __future__ import print_function\n",
    "from ipywidgets import interact, interactive, fixed, interact_manual\n",
    "import ipywidgets as widgets\n",
    "import interferometer as ir\n",
    "import matplotlib.pyplot as plt\n",
    "from matplotlib.widgets import Slider, Button\n",
    "import numpy as np"
   ]
  },
  {
   "cell_type": "code",
   "execution_count": 2,
   "metadata": {},
   "outputs": [
    {
     "data": {
      "application/vnd.jupyter.widget-view+json": {
       "model_id": "d2b21baf2cd0438a9532355f9a9aa6b4",
       "version_major": 2,
       "version_minor": 0
      },
      "text/plain": [
       "interactive(children=(FloatSlider(value=15.0, continuous_update=False, description='t1', max=180.0, min=-90.0,…"
      ]
     },
     "metadata": {},
     "output_type": "display_data"
    }
   ],
   "source": [
    "t1=widgets.FloatSlider(value = 15,min=-90, max=180,step=1,continuous_update=False)\n",
    "t3=widgets.FloatSlider(value = 100,min=-90, max=180,step=1,continuous_update=False)\n",
    "t2min=widgets.FloatSlider(value = 50,min=0, max=180,step=1,continuous_update=False)\n",
    "t2max=widgets.FloatSlider(value = 110,min=0, max=180,step=1,continuous_update=False)\n",
    "yvmax = widgets.FloatSlider(value = 0.02,min=0.000001, max=1,step=0.001,continuous_update=False)\n",
    "yhmax = widgets.FloatSlider(value = 0.02,min=0.000001, max=1,step=0.001,continuous_update=False)\n",
    "#ysmax = widgets.FloatSlider(value = 0.2,min=0.001, max=1,step=0.001)\n",
    "\n",
    "def make_plots(t1,t3,t2min,t2max,yvmax,yhmax):\n",
    "    ir.vertical(t1,t3,t2min,t2max,yvmax)\n",
    "    ir.horizontal(t1,t3,t2min,t2max,yhmax)\n",
    "    ir.split(t1,t3,t2min,t2max)\n",
    "\n",
    "interact(make_plots, \n",
    "         t1=t1,\n",
    "         t3= t3,\n",
    "         t2min=t2min,\n",
    "         t2max=t2max,\n",
    "         yvmax = yvmax,\n",
    "         yhmax = yhmax\n",
    "         \n",
    "        );"
   ]
  },
  {
   "cell_type": "code",
   "execution_count": 3,
   "metadata": {},
   "outputs": [
    {
     "data": {
      "application/vnd.jupyter.widget-view+json": {
       "model_id": "b17100e5e1a646bbbd06798b685a7d5a",
       "version_major": 2,
       "version_minor": 0
      },
      "text/plain": [
       "interactive(children=(FloatSlider(value=100.0, continuous_update=False, description='t1', max=180.0, min=-90.0…"
      ]
     },
     "metadata": {},
     "output_type": "display_data"
    }
   ],
   "source": [
    "t1=widgets.FloatSlider(value = 100,min=-90, max=180,step=1,continuous_update=False)\n",
    "t3=widgets.FloatSlider(value = 81,min=-90, max=180,step=1,continuous_update=False)\n",
    "t2min=widgets.FloatSlider(value = 90.20,min=0, max=180,step=1,continuous_update=False)\n",
    "t2max=widgets.FloatSlider(value = 90.80,min=0, max=180,step=1,continuous_update=False)\n",
    "yvmax = widgets.FloatSlider(value = 0.001,min=0.000001, max=1,step=0.001,continuous_update=False)\n",
    "yhmax = widgets.FloatSlider(value = 0.001,min=0.000001, max=1,step=0.001,continuous_update=False)\n",
    "#ysmax = widgets.FloatSlider(value = 0.2,min=0.001, max=1,step=0.001)\n",
    "\n",
    "def make_plots(t1,t3,t2min,t2max,yvmax,yhmax):\n",
    "    ir.vertical(t1,t3,t2min,t2max,yvmax)\n",
    "    ir.horizontal(t1,t3,t2min,t2max,yhmax)\n",
    "    ir.split(t1,t3,t2min,t2max)\n",
    "\n",
    "interact(make_plots, \n",
    "         t1=t1,\n",
    "         t3= t3,\n",
    "         t2min=t2min,\n",
    "         t2max=t2max,\n",
    "         yvmax = yvmax,\n",
    "         yhmax = yhmax\n",
    "         \n",
    "        );"
   ]
  },
  {
   "cell_type": "code",
   "execution_count": 4,
   "metadata": {},
   "outputs": [
    {
     "data": {
      "application/vnd.jupyter.widget-view+json": {
       "model_id": "1a923932a11a441f8125d90b6e3f5cbc",
       "version_major": 2,
       "version_minor": 0
      },
      "text/plain": [
       "interactive(children=(FloatSlider(value=180.0, continuous_update=False, description='t1', max=180.0, min=-90.0…"
      ]
     },
     "metadata": {},
     "output_type": "display_data"
    }
   ],
   "source": [
    "t1=widgets.FloatSlider(value = 180,min=-90, max=180,step=1,continuous_update=False)\n",
    "t3=widgets.FloatSlider(value = 132,min=-90, max=180,step=1,continuous_update=False)\n",
    "t2min=widgets.FloatSlider(value = 0.0,min=0, max=180,step=1,continuous_update=False)\n",
    "t2max=widgets.FloatSlider(value = 180,min=0, max=180,step=1,continuous_update=False)\n",
    "yvmax = widgets.FloatSlider(value = 0.01,min=0.000001, max=1,step=0.001,continuous_update=False)\n",
    "yhmax = widgets.FloatSlider(value = 0.01,min=0.000001, max=1,step=0.001,continuous_update=False)\n",
    "#ysmax = widgets.FloatSlider(value = 0.2,min=0.001, max=1,step=0.001)\n",
    "\n",
    "def make_plots(t1,t3,t2min,t2max,yvmax,yhmax):\n",
    "    ir.vertical(t1,t3,t2min,t2max,yvmax)\n",
    "    ir.horizontal(t1,t3,t2min,t2max,yhmax)\n",
    "    ir.split(t1,t3,t2min,t2max)\n",
    "\n",
    "interact(make_plots, \n",
    "         t1=t1,\n",
    "         t3= t3,\n",
    "         t2min=t2min,\n",
    "         t2max=t2max,\n",
    "         yvmax = yvmax,\n",
    "         yhmax = yhmax\n",
    "         \n",
    "        );"
   ]
  },
  {
   "cell_type": "code",
   "execution_count": 8,
   "metadata": {},
   "outputs": [
    {
     "data": {
      "application/vnd.jupyter.widget-view+json": {
       "model_id": "4d7b6123498442ff92bb7c4c92798106",
       "version_major": 2,
       "version_minor": 0
      },
      "text/plain": [
       "interactive(children=(FloatSlider(value=175.0, continuous_update=False, description='t1', max=180.0, min=-90.0…"
      ]
     },
     "metadata": {},
     "output_type": "display_data"
    }
   ],
   "source": [
    "t1=widgets.FloatSlider(value = 175,min=-90, max=180,step=1,continuous_update=False)\n",
    "t3=widgets.FloatSlider(value = 7,min=-90, max=180,step=1,continuous_update=False)\n",
    "t2min=widgets.FloatSlider(value = 0.0,min=0, max=180,step=1,continuous_update=False)\n",
    "t2max=widgets.FloatSlider(value = 180,min=0, max=180,step=1,continuous_update=False)\n",
    "yvmax = widgets.FloatSlider(value = 0.02,min=0.000001, max=1,step=0.001,continuous_update=False)\n",
    "yhmax = widgets.FloatSlider(value = 0.02,min=0.000001, max=1,step=0.001,continuous_update=False)\n",
    "#ysmax = widgets.FloatSlider(value = 0.2,min=0.001, max=1,step=0.001)\n",
    "\n",
    "def make_plots(t1,t3,t2min,t2max,yvmax,yhmax):\n",
    "    ir.vertical(t1,t3,t2min,t2max,yvmax)\n",
    "    ir.horizontal(t1,t3,t2min,t2max,yhmax)\n",
    "    ir.split(t1,t3,t2min,t2max)\n",
    "\n",
    "interact(make_plots, \n",
    "         t1=t1,\n",
    "         t3= t3,\n",
    "         t2min=t2min,\n",
    "         t2max=t2max,\n",
    "         yvmax = yvmax,\n",
    "         yhmax = yhmax\n",
    "         \n",
    "        );"
   ]
  },
  {
   "cell_type": "code",
   "execution_count": 6,
   "metadata": {},
   "outputs": [
    {
     "data": {
      "application/vnd.jupyter.widget-view+json": {
       "model_id": "ddac8b36129147c6a98de1829e524aa8",
       "version_major": 2,
       "version_minor": 0
      },
      "text/plain": [
       "interactive(children=(FloatSlider(value=173.0, continuous_update=False, description='t1', max=180.0, min=-90.0…"
      ]
     },
     "metadata": {},
     "output_type": "display_data"
    }
   ],
   "source": [
    "t1=widgets.FloatSlider(value = 173,min=-90, max=180,step=1,continuous_update=False)\n",
    "t3=widgets.FloatSlider(value = 45,min=-90, max=180,step=1,continuous_update=False)\n",
    "t2min=widgets.FloatSlider(value = 90,min=0, max=180,step=1,continuous_update=False)\n",
    "t2max=widgets.FloatSlider(value = 120,min=0, max=180,step=1,continuous_update=False)\n",
    "yvmax = widgets.FloatSlider(value = 0.01,min=0.000001, max=1,step=0.001,continuous_update=False)\n",
    "yhmax = widgets.FloatSlider(value = 0.01,min=0.000001, max=1,step=0.001,continuous_update=False)\n",
    "#ysmax = widgets.FloatSlider(value = 0.2,min=0.001, max=1,step=0.001)\n",
    "\n",
    "def make_plots(t1,t3,t2min,t2max,yvmax,yhmax):\n",
    "    ir.vertical(t1,t3,t2min,t2max,yvmax)\n",
    "    ir.horizontal(t1,t3,t2min,t2max,yhmax)\n",
    "    ir.split(t1,t3,t2min,t2max)\n",
    "\n",
    "interact(make_plots, \n",
    "         t1=t1,\n",
    "         t3= t3,\n",
    "         t2min=t2min,\n",
    "         t2max=t2max,\n",
    "         yvmax = yvmax,\n",
    "         yhmax = yhmax\n",
    "         \n",
    "        );"
   ]
  },
  {
   "cell_type": "code",
   "execution_count": 7,
   "metadata": {},
   "outputs": [
    {
     "data": {
      "application/vnd.jupyter.widget-view+json": {
       "model_id": "c0d5ad9f9b2044fc81445944e6ce73e3",
       "version_major": 2,
       "version_minor": 0
      },
      "text/plain": [
       "interactive(children=(FloatSlider(value=133.0, continuous_update=False, description='t1', max=180.0, min=-90.0…"
      ]
     },
     "metadata": {},
     "output_type": "display_data"
    }
   ],
   "source": [
    "t1=widgets.FloatSlider(value = 133,min=-90, max=180,step=1,continuous_update=False)\n",
    "t3=widgets.FloatSlider(value = 180,min=-90, max=180,step=1,continuous_update=False)\n",
    "t2min=widgets.FloatSlider(value = 80,min=0, max=180,step=1,continuous_update=False)\n",
    "t2max=widgets.FloatSlider(value = 100,min=0, max=180,step=1,continuous_update=False)\n",
    "yvmax = widgets.FloatSlider(value = 0.01,min=0.000001, max=1,step=0.001,continuous_update=False)\n",
    "yhmax = widgets.FloatSlider(value = 0.01,min=0.000001, max=1,step=0.001,continuous_update=False)\n",
    "#ysmax = widgets.FloatSlider(value = 0.2,min=0.001, max=1,step=0.001)\n",
    "\n",
    "def make_plots(t1,t3,t2min,t2max,yvmax,yhmax):\n",
    "    ir.vertical(t1,t3,t2min,t2max,yvmax)\n",
    "    ir.horizontal(t1,t3,t2min,t2max,yhmax)\n",
    "    ir.split(t1,t3,t2min,t2max)\n",
    "\n",
    "interact(make_plots, \n",
    "         t1=t1,\n",
    "         t3= t3,\n",
    "         t2min=t2min,\n",
    "         t2max=t2max,\n",
    "         yvmax = yvmax,\n",
    "         yhmax = yhmax\n",
    "         \n",
    "        );"
   ]
  },
  {
   "cell_type": "code",
   "execution_count": null,
   "metadata": {},
   "outputs": [],
   "source": []
  }
 ],
 "metadata": {
  "kernelspec": {
   "display_name": "Python 3",
   "language": "python",
   "name": "python3"
  },
  "language_info": {
   "codemirror_mode": {
    "name": "ipython",
    "version": 3
   },
   "file_extension": ".py",
   "mimetype": "text/x-python",
   "name": "python",
   "nbconvert_exporter": "python",
   "pygments_lexer": "ipython3",
   "version": "3.7.6"
  }
 },
 "nbformat": 4,
 "nbformat_minor": 4
}
