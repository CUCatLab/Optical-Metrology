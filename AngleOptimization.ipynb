{
 "cells": [
  {
   "cell_type": "markdown",
   "metadata": {},
   "source": [
    "# Angle Optimization\n",
    "## Optimizing combination of t1 and t3\n",
    "Abby Bechtel"
   ]
  },
  {
   "cell_type": "code",
   "execution_count": 14,
   "metadata": {},
   "outputs": [],
   "source": [
    "import interferometer as ir\n",
    "import numpy as np\n",
    "import matplotlib.pyplot as plt\n",
    "import pandas as pd\n",
    "\n",
    "# Set default plot line color cycling\n",
    "plt.rcParams.update(plt.rcParamsDefault)\n",
    "ccycle = mpl.cycler('color', plt.cm.rainbow(np.linspace(0.1, 2.9, 30)))\n",
    "plt.rc('axes', prop_cycle = ccycle)\n",
    "\n",
    "# Allow fancy axis number formatting\n",
    "from matplotlib.ticker import EngFormatter, ScalarFormatter\n",
    "\n",
    "# Set stylesheet for plots\n",
    "plt.style.use(\"seaborn-pastel\")\n",
    "mpl.style.use('bmh')"
   ]
  },
  {
   "cell_type": "markdown",
   "metadata": {},
   "source": [
    "## Taking gradient"
   ]
  },
  {
   "cell_type": "code",
   "execution_count": 5,
   "metadata": {},
   "outputs": [],
   "source": [
    "# set angles for testing \n",
    "t1 = 0\n",
    "t3 = 0\n",
    "t2min = 0\n",
    "t2max = 180"
   ]
  },
  {
   "cell_type": "code",
   "execution_count": 6,
   "metadata": {},
   "outputs": [
    {
     "name": "stderr",
     "output_type": "stream",
     "text": [
      "<ipython-input-6-88c15284c6f4>:5: RuntimeWarning: invalid value encountered in true_divide\n",
      "  s = (h - v)/(h + v)\n"
     ]
    }
   ],
   "source": [
    "t2s, h = ir.intensity(t1,t3,0,t2min,t2max) # domain and horizontal\n",
    "_  , v = ir.intensity(t1,t3,90,t2min,t2max) # vertical\n",
    "\n",
    "# Split-detected signal\n",
    "s = (h - v)/(h + v)"
   ]
  },
  {
   "cell_type": "code",
   "execution_count": 7,
   "metadata": {},
   "outputs": [],
   "source": [
    "def gradient(x):\n",
    "    n=len(x)\n",
    "    d = np.eye(n,n,1)-np.eye(n,n,-1)\n",
    "    d[0][0:2]=np.array([[-2,2]])\n",
    "    d[n-1,n-2:n]=np.array([[-2,2]])\n",
    "    D=d/(2*(max(x)-min(x))/(len(x)-1))\n",
    "    return D\n",
    "\n",
    "def get_points(d1,d2):\n",
    "    l = []\n",
    "    for i in range(len(d1)):\n",
    "        if d1[i] != 0:\n",
    "            if abs(d1[i] - d2[i]) <= 0.000001:\n",
    "                l.append(d1[i])\n",
    "    return l\n",
    "\n",
    "def graph(fx, xpoints):\n",
    "    yDeriv1 = gradient(xpoints)@fx\n",
    "    yDeriv2 = gradient(xpoints)@yDeriv1\n",
    "    yFunc = fx\n",
    "    p = get_points(yDeriv1,yDeriv2)\n",
    "    \n",
    "    f = plt.figure(figsize=(8,8))\n",
    "    a = plt.axes()\n",
    "    # Explicitly plot matched pairs of x-y points on the axis a\n",
    "    a.plot(xpoints, yFunc, label=\"$f(x)$\")\n",
    "    # Explicitly plot different matched pair of x-y points in a different color\n",
    "    a.plot(xpoints, yDeriv1, color=\"Red\", label=\"$f^ {'}(x)$\")\n",
    "    # Explicitly plot different matched pair of x-y points in a different color\n",
    "    a.plot(xpoints, yDeriv2, color=\"Green\", label=\"$f^ {''}(x)$\")\n",
    "    # Explicitly set axis labels and a plot title\n",
    "    a.set(xlabel=\"Domain\", ylabel=\"Range\", title=\"Derivative Approximation\")\n",
    "    # Add a legend describing which curve is which\n",
    "    a.legend()\n",
    "    # Show the active plot to the screen\n",
    "    plt.show()\n",
    "    return yDeriv1, yDeriv2"
   ]
  },
  {
   "cell_type": "code",
   "execution_count": 8,
   "metadata": {},
   "outputs": [],
   "source": [
    "# return max slope for all combinations of polarizer 1 and 2 angles within x array\n",
    "def test_slopes(x):\n",
    "    slope_map = {}\n",
    "    \n",
    "    # i is first polarizer - t1\n",
    "    for i in x:\n",
    "        # j is third polarizer - t3\n",
    "        for j in x:\n",
    "\n",
    "            # Dark-port polarization intensities\n",
    "            t2s, h = ir.intensity(i,j,0,0,180)\n",
    "            _  , v = ir.intensity(i,j,90,0,180)\n",
    "\n",
    "            # Split-detected signal\n",
    "            s = (h - v)/(h + v)\n",
    "        \n",
    "            # gradient array over domain\n",
    "            grad_arr = np.abs(gradient(s)@t2s)\n",
    "            # returning either max 5 slopes for i,j polarization combination or simply 1 max slope\n",
    "#             ind_max5 = np.argpartition(grad_arr, -5)[-5:]\n",
    "            ind_max = np.argpartition(grad_arr, -1)[-1:]\n",
    "            # creating dictionary with (i,j) key and value of the max slope value and the index\n",
    "            slope_map[(i,j)]=(grad_arr[ind_max],t2s[ind_max])\n",
    "    return slope_map"
   ]
  },
  {
   "cell_type": "code",
   "execution_count": 15,
   "metadata": {},
   "outputs": [
    {
     "name": "stderr",
     "output_type": "stream",
     "text": [
      "<ipython-input-8-3ce5cf0c66d4>:15: RuntimeWarning: invalid value encountered in true_divide\n",
      "  s = (h - v)/(h + v)\n",
      "<ipython-input-7-eaf7c4809104>:6: RuntimeWarning: divide by zero encountered in true_divide\n",
      "  D=d/(2*(max(x)-min(x))/(len(x)-1))\n",
      "<ipython-input-7-eaf7c4809104>:6: RuntimeWarning: invalid value encountered in true_divide\n",
      "  D=d/(2*(max(x)-min(x))/(len(x)-1))\n",
      "<ipython-input-8-3ce5cf0c66d4>:18: RuntimeWarning: invalid value encountered in matmul\n",
      "  grad_arr = np.abs(gradient(s)@t2s)\n"
     ]
    }
   ],
   "source": [
    "domain = np.linspace(0,180,181)\n",
    "slope_dict = test_slopes(domain)"
   ]
  },
  {
   "cell_type": "code",
   "execution_count": 16,
   "metadata": {},
   "outputs": [],
   "source": [
    "# get 5 max slopes from all combinations in max_slope dictionary\n",
    "keys, values = zip(*slope_dict.items())\n",
    "\n",
    "# get slopes from tuple containing slopes and indexes for slopes\n",
    "slopes = np.array([tuple[0][0] for tuple in values])\n",
    "slopes  = slopes[~np.isnan(slopes)]\n",
    "\n",
    "# get max 5 slopes\n",
    "ind_max = np.argpartition(slopes, -5)[-5:]\n",
    "# max 5 slopes for all combinations of i,j\n",
    "max_slopes = slopes[ind_max]"
   ]
  },
  {
   "cell_type": "code",
   "execution_count": 17,
   "metadata": {},
   "outputs": [],
   "source": [
    "p1p3_combination = []\n",
    "p1p3_angles = []\n",
    "# get the combinations of polarizers corrisponding to max slopes\n",
    "for i in keys:\n",
    "    for j in max_slopes:\n",
    "        if slope_dict[i][0][0] == j:\n",
    "            t1,t3 = i\n",
    "            p1p3_combination.append([t1,t3,j])"
   ]
  },
  {
   "cell_type": "code",
   "execution_count": 18,
   "metadata": {},
   "outputs": [],
   "source": [
    "df = pd.DataFrame(p1p3_combination, columns=['t1', 't3', 'max_slope'])"
   ]
  },
  {
   "cell_type": "code",
   "execution_count": 19,
   "metadata": {},
   "outputs": [],
   "source": [
    "df = df.drop_duplicates()"
   ]
  },
  {
   "cell_type": "code",
   "execution_count": 20,
   "metadata": {},
   "outputs": [
    {
     "data": {
      "text/html": [
       "<div>\n",
       "<style scoped>\n",
       "    .dataframe tbody tr th:only-of-type {\n",
       "        vertical-align: middle;\n",
       "    }\n",
       "\n",
       "    .dataframe tbody tr th {\n",
       "        vertical-align: top;\n",
       "    }\n",
       "\n",
       "    .dataframe thead th {\n",
       "        text-align: right;\n",
       "    }\n",
       "</style>\n",
       "<table border=\"1\" class=\"dataframe\">\n",
       "  <thead>\n",
       "    <tr style=\"text-align: right;\">\n",
       "      <th></th>\n",
       "      <th>t1</th>\n",
       "      <th>t3</th>\n",
       "      <th>max_slope</th>\n",
       "    </tr>\n",
       "  </thead>\n",
       "  <tbody>\n",
       "    <tr>\n",
       "      <th>0</th>\n",
       "      <td>23.0</td>\n",
       "      <td>138.0</td>\n",
       "      <td>540049.436454</td>\n",
       "    </tr>\n",
       "    <tr>\n",
       "      <th>1</th>\n",
       "      <td>113.0</td>\n",
       "      <td>138.0</td>\n",
       "      <td>540049.436454</td>\n",
       "    </tr>\n",
       "    <tr>\n",
       "      <th>2</th>\n",
       "      <td>138.0</td>\n",
       "      <td>23.0</td>\n",
       "      <td>540049.436454</td>\n",
       "    </tr>\n",
       "    <tr>\n",
       "      <th>3</th>\n",
       "      <td>138.0</td>\n",
       "      <td>113.0</td>\n",
       "      <td>540049.436454</td>\n",
       "    </tr>\n",
       "    <tr>\n",
       "      <th>4</th>\n",
       "      <td>23.0</td>\n",
       "      <td>48.0</td>\n",
       "      <td>540049.436454</td>\n",
       "    </tr>\n",
       "    <tr>\n",
       "      <th>5</th>\n",
       "      <td>42.0</td>\n",
       "      <td>67.0</td>\n",
       "      <td>540049.436454</td>\n",
       "    </tr>\n",
       "    <tr>\n",
       "      <th>6</th>\n",
       "      <td>42.0</td>\n",
       "      <td>157.0</td>\n",
       "      <td>540049.436454</td>\n",
       "    </tr>\n",
       "    <tr>\n",
       "      <th>7</th>\n",
       "      <td>48.0</td>\n",
       "      <td>23.0</td>\n",
       "      <td>540049.436454</td>\n",
       "    </tr>\n",
       "    <tr>\n",
       "      <th>8</th>\n",
       "      <td>48.0</td>\n",
       "      <td>113.0</td>\n",
       "      <td>540049.436454</td>\n",
       "    </tr>\n",
       "    <tr>\n",
       "      <th>9</th>\n",
       "      <td>67.0</td>\n",
       "      <td>42.0</td>\n",
       "      <td>540049.436454</td>\n",
       "    </tr>\n",
       "    <tr>\n",
       "      <th>10</th>\n",
       "      <td>67.0</td>\n",
       "      <td>132.0</td>\n",
       "      <td>540049.436454</td>\n",
       "    </tr>\n",
       "    <tr>\n",
       "      <th>11</th>\n",
       "      <td>113.0</td>\n",
       "      <td>48.0</td>\n",
       "      <td>540049.436454</td>\n",
       "    </tr>\n",
       "    <tr>\n",
       "      <th>12</th>\n",
       "      <td>132.0</td>\n",
       "      <td>67.0</td>\n",
       "      <td>540049.436454</td>\n",
       "    </tr>\n",
       "    <tr>\n",
       "      <th>13</th>\n",
       "      <td>132.0</td>\n",
       "      <td>157.0</td>\n",
       "      <td>540049.436454</td>\n",
       "    </tr>\n",
       "    <tr>\n",
       "      <th>14</th>\n",
       "      <td>157.0</td>\n",
       "      <td>42.0</td>\n",
       "      <td>540049.436454</td>\n",
       "    </tr>\n",
       "    <tr>\n",
       "      <th>15</th>\n",
       "      <td>157.0</td>\n",
       "      <td>132.0</td>\n",
       "      <td>540049.436454</td>\n",
       "    </tr>\n",
       "  </tbody>\n",
       "</table>\n",
       "</div>"
      ],
      "text/plain": [
       "       t1     t3      max_slope\n",
       "0    23.0  138.0  540049.436454\n",
       "1   113.0  138.0  540049.436454\n",
       "2   138.0   23.0  540049.436454\n",
       "3   138.0  113.0  540049.436454\n",
       "4    23.0   48.0  540049.436454\n",
       "5    42.0   67.0  540049.436454\n",
       "6    42.0  157.0  540049.436454\n",
       "7    48.0   23.0  540049.436454\n",
       "8    48.0  113.0  540049.436454\n",
       "9    67.0   42.0  540049.436454\n",
       "10   67.0  132.0  540049.436454\n",
       "11  113.0   48.0  540049.436454\n",
       "12  132.0   67.0  540049.436454\n",
       "13  132.0  157.0  540049.436454\n",
       "14  157.0   42.0  540049.436454\n",
       "15  157.0  132.0  540049.436454"
      ]
     },
     "execution_count": 20,
     "metadata": {},
     "output_type": "execute_result"
    }
   ],
   "source": [
    "df.sort_values(by=['max_slope'], ascending=False).reset_index(drop=True)"
   ]
  },
  {
   "cell_type": "code",
   "execution_count": null,
   "metadata": {},
   "outputs": [],
   "source": []
  }
 ],
 "metadata": {
  "kernelspec": {
   "display_name": "Python 3",
   "language": "python",
   "name": "python3"
  },
  "language_info": {
   "codemirror_mode": {
    "name": "ipython",
    "version": 3
   },
   "file_extension": ".py",
   "mimetype": "text/x-python",
   "name": "python",
   "nbconvert_exporter": "python",
   "pygments_lexer": "ipython3",
   "version": "3.8.3"
  }
 },
 "nbformat": 4,
 "nbformat_minor": 4
}
