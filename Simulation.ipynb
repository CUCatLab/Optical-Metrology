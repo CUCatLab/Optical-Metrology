{
 "cells": [
  {
   "cell_type": "code",
   "execution_count": 1,
   "metadata": {},
   "outputs": [
    {
     "ename": "NameError",
     "evalue": "name 'aeff' is not defined",
     "output_type": "error",
     "traceback": [
      "\u001b[0;31m---------------------------------------------------------------------------\u001b[0m",
      "\u001b[0;31mNameError\u001b[0m                                 Traceback (most recent call last)",
      "\u001b[0;32m<ipython-input-1-298f43f1de16>\u001b[0m in \u001b[0;36m<module>\u001b[0;34m\u001b[0m\n\u001b[1;32m      2\u001b[0m \u001b[0;32mfrom\u001b[0m \u001b[0mipywidgets\u001b[0m \u001b[0;32mimport\u001b[0m \u001b[0minteract\u001b[0m\u001b[0;34m,\u001b[0m \u001b[0minteractive\u001b[0m\u001b[0;34m,\u001b[0m \u001b[0mfixed\u001b[0m\u001b[0;34m,\u001b[0m \u001b[0minteract_manual\u001b[0m\u001b[0;34m\u001b[0m\u001b[0;34m\u001b[0m\u001b[0m\n\u001b[1;32m      3\u001b[0m \u001b[0;32mimport\u001b[0m \u001b[0mipywidgets\u001b[0m \u001b[0;32mas\u001b[0m \u001b[0mwidgets\u001b[0m\u001b[0;34m\u001b[0m\u001b[0;34m\u001b[0m\u001b[0m\n\u001b[0;32m----> 4\u001b[0;31m \u001b[0;32mimport\u001b[0m \u001b[0minterferometer\u001b[0m \u001b[0;32mas\u001b[0m \u001b[0mir\u001b[0m\u001b[0;34m\u001b[0m\u001b[0;34m\u001b[0m\u001b[0m\n\u001b[0m\u001b[1;32m      5\u001b[0m \u001b[0;32mimport\u001b[0m \u001b[0mmatplotlib\u001b[0m\u001b[0;34m.\u001b[0m\u001b[0mpyplot\u001b[0m \u001b[0;32mas\u001b[0m \u001b[0mplt\u001b[0m\u001b[0;34m\u001b[0m\u001b[0;34m\u001b[0m\u001b[0m\n\u001b[1;32m      6\u001b[0m \u001b[0;32mfrom\u001b[0m \u001b[0mmatplotlib\u001b[0m\u001b[0;34m.\u001b[0m\u001b[0mwidgets\u001b[0m \u001b[0;32mimport\u001b[0m \u001b[0mSlider\u001b[0m\u001b[0;34m,\u001b[0m \u001b[0mButton\u001b[0m\u001b[0;34m\u001b[0m\u001b[0;34m\u001b[0m\u001b[0m\n",
      "\u001b[0;32m~/Optical-Metrology/interferometer.py\u001b[0m in \u001b[0;36m<module>\u001b[0;34m\u001b[0m\n\u001b[1;32m     68\u001b[0m \u001b[0;34m\u001b[0m\u001b[0m\n\u001b[1;32m     69\u001b[0m \u001b[0;34m\u001b[0m\u001b[0m\n\u001b[0;32m---> 70\u001b[0;31m \u001b[0;32mdef\u001b[0m \u001b[0mvertical\u001b[0m\u001b[0;34m(\u001b[0m\u001b[0mtheta1\u001b[0m\u001b[0;34m,\u001b[0m \u001b[0mtheta3\u001b[0m\u001b[0;34m,\u001b[0m \u001b[0mtheta2min\u001b[0m\u001b[0;34m,\u001b[0m \u001b[0mtheta2max\u001b[0m\u001b[0;34m,\u001b[0m \u001b[0mymax\u001b[0m\u001b[0;34m=\u001b[0m\u001b[0;36m0.2\u001b[0m\u001b[0;34m,\u001b[0m\u001b[0maeff\u001b[0m \u001b[0;34m=\u001b[0m \u001b[0maeff\u001b[0m \u001b[0;34m,\u001b[0m\u001b[0mbeff\u001b[0m \u001b[0;34m=\u001b[0m \u001b[0mbeff\u001b[0m \u001b[0;34m,\u001b[0m\u001b[0mceff\u001b[0m \u001b[0;34m=\u001b[0m \u001b[0mceff\u001b[0m\u001b[0;34m,\u001b[0m \u001b[0mdeff\u001b[0m \u001b[0;34m=\u001b[0m \u001b[0mdeff\u001b[0m\u001b[0;34m)\u001b[0m\u001b[0;34m:\u001b[0m\u001b[0;34m\u001b[0m\u001b[0;34m\u001b[0m\u001b[0m\n\u001b[0m\u001b[1;32m     71\u001b[0m     \u001b[0;34m\"this plots the the vertical light coming out of the dark port\"\u001b[0m\u001b[0;34m\u001b[0m\u001b[0;34m\u001b[0m\u001b[0m\n\u001b[1;32m     72\u001b[0m     \u001b[0mx2s\u001b[0m\u001b[0;34m,\u001b[0m\u001b[0mVt\u001b[0m \u001b[0;34m=\u001b[0m \u001b[0mintensity\u001b[0m\u001b[0;34m(\u001b[0m\u001b[0mtheta1\u001b[0m\u001b[0;34m,\u001b[0m\u001b[0mtheta3\u001b[0m\u001b[0;34m,\u001b[0m\u001b[0;36m90\u001b[0m\u001b[0;34m,\u001b[0m\u001b[0mtheta2min\u001b[0m\u001b[0;34m,\u001b[0m\u001b[0mtheta2max\u001b[0m\u001b[0;34m,\u001b[0m\u001b[0maeff\u001b[0m\u001b[0;34m,\u001b[0m\u001b[0mbeff\u001b[0m\u001b[0;34m,\u001b[0m\u001b[0mceff\u001b[0m\u001b[0;34m,\u001b[0m\u001b[0mdeff\u001b[0m\u001b[0;34m)\u001b[0m\u001b[0;34m\u001b[0m\u001b[0;34m\u001b[0m\u001b[0m\n",
      "\u001b[0;31mNameError\u001b[0m: name 'aeff' is not defined"
     ]
    }
   ],
   "source": [
    "from __future__ import print_function\n",
    "from ipywidgets import interact, interactive, fixed, interact_manual\n",
    "import ipywidgets as widgets\n",
    "import interferometer as ir\n",
    "import matplotlib.pyplot as plt\n",
    "from matplotlib.widgets import Slider, Button\n",
    "import numpy as np"
   ]
  },
  {
   "cell_type": "code",
   "execution_count": null,
   "metadata": {},
   "outputs": [],
   "source": [
    "t1=widgets.FloatSlider(value = 100,min=-90, max=180,step=1,continuous_update=False)\n",
    "t3=widgets.FloatSlider(value = 81,min=-90, max=180,step=1,continuous_update=False)\n",
    "t2min=widgets.FloatSlider(value = 0.0,min=0, max=180,step=1,continuous_update=False)\n",
    "t2max=widgets.FloatSlider(value = 125,min=0, max=180,step=1,continuous_update=False)\n",
    "yvmax = widgets.FloatSlider(value = 0.2,min=0.000001, max=1,step=0.001,continuous_update=False)\n",
    "yhmax = widgets.FloatSlider(value = 0.2,min=0.000001, max=1,step=0.001,continuous_update=False)\n",
    "aeff = widgets.FloatSlider(value = 0.1,min=0.001, max=90,step=0.001,continuous_update=False)\n",
    "beff = widgets.FloatSlider(value = 0.1,min=0.001, max=90,step=0.001,continuous_update=False)\n",
    "ceff = widgets.FloatSlider(value = 0.1,min=0.001, max=90,step=0.001,continuous_update=False)\n",
    "deff = widgets.FloatSlider(value = 0.1,min=0.001, max=90,step=0.001,continuous_update=False)\n",
    "\n",
    "def make_plots(t1,t3,t2min,t2max,yvmax,yhmax,aeff,beff,ceff,deff):\n",
    "    ir.vertical(t1,t3,t2min,t2max,yvmax,aeff,beff,ceff,deff)\n",
    "    ir.horizontal(t1,t3,t2min,t2max,yhmax,aeff,beff,ceff,deff)\n",
    "    ir.split(t1,t3,t2min,t2max,aeff,beff,ceff,deff)\n",
    "\n",
    "interact(make_plots, \n",
    "         t1=t1,\n",
    "         t3= t3,\n",
    "         t2min=t2min,\n",
    "         t2max=t2max,\n",
    "         yvmax = yvmax,\n",
    "         yhmax = yhmax,\n",
    "         aeff = aeff,\n",
    "         beff = beff,\n",
    "         ceff = ceff,\n",
    "         deff = deff\n",
    "         \n",
    "        );"
   ]
  },
  {
   "cell_type": "code",
   "execution_count": null,
   "metadata": {},
   "outputs": [],
   "source": []
  }
 ],
 "metadata": {
  "kernelspec": {
   "display_name": "Python 3",
   "language": "python",
   "name": "python3"
  },
  "language_info": {
   "codemirror_mode": {
    "name": "ipython",
    "version": 3
   },
   "file_extension": ".py",
   "mimetype": "text/x-python",
   "name": "python",
   "nbconvert_exporter": "python",
   "pygments_lexer": "ipython3",
   "version": "3.7.6"
  }
 },
 "nbformat": 4,
 "nbformat_minor": 4
}
