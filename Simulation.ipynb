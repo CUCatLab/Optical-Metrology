{
 "cells": [
  {
   "cell_type": "code",
   "execution_count": 1,
   "metadata": {},
   "outputs": [],
   "source": [
    "from __future__ import print_function\n",
    "from ipywidgets import interact, interactive, fixed, interact_manual\n",
    "import ipywidgets as widgets\n",
    "import interferometer as ir\n",
    "import matplotlib.pyplot as plt\n",
    "from matplotlib.widgets import Slider, Button\n",
    "import numpy as np"
   ]
  },
  {
   "cell_type": "code",
   "execution_count": 5,
   "metadata": {},
   "outputs": [
    {
     "data": {
      "application/vnd.jupyter.widget-view+json": {
       "model_id": "53ba6d70a4d7403e847bf2911c7f8fca",
       "version_major": 2,
       "version_minor": 0
      },
      "text/plain": [
       "interactive(children=(FloatSlider(value=10.0, description='t1', max=180.0, min=-90.0, step=1.0), FloatSlider(v…"
      ]
     },
     "metadata": {},
     "output_type": "display_data"
    }
   ],
   "source": [
    "t1=widgets.FloatSlider(value = 10,min=-90, max=180,step=1)\n",
    "t3=widgets.FloatSlider(value = -40,min=-90, max=180,step=1)\n",
    "t2min=widgets.FloatSlider(value = 0.0,min=0, max=180,step=1)\n",
    "t2max=widgets.FloatSlider(value = 125,min=0, max=180,step=1)\n",
    "yvmax = widgets.FloatSlider(value = 0.2,min=0.001, max=1,step=0.001)\n",
    "yhmax = widgets.FloatSlider(value = 0.2,min=0.001, max=1,step=0.001)\n",
    "#ysmax = widgets.FloatSlider(value = 0.2,min=0.001, max=1,step=0.001)\n",
    "\n",
    "def make_plots(t1,t3,t2min,t2max,yvmax,yhmax):\n",
    "    ir.vertical(t1,t3,t2min,t2max,yvmax)\n",
    "    ir.horizontal(t1,t3,t2min,t2max,yhmax)\n",
    "    ir.split(t1,t3,t2min,t2max)\n",
    "\n",
    "interact(make_plots, \n",
    "         t1=t1,\n",
    "         t3= t3,\n",
    "         t2min=t2min,\n",
    "         t2max=t2max,\n",
    "         yvmax = yvmax,\n",
    "         yhmax = yhmax\n",
    "         \n",
    "        );"
   ]
  },
  {
   "cell_type": "code",
   "execution_count": 3,
   "metadata": {},
   "outputs": [
    {
     "data": {
      "image/png": "[encoded data removed]",
      "text/plain": [
       "<Figure size 288x216 with 1 Axes>"
      ]
     },
     "metadata": {
      "needs_background": "light"
     },
     "output_type": "display_data"
    },
    {
     "ename": "AttributeError",
     "evalue": "'NoneType' object has no attribute 'savefig'",
     "output_type": "error",
     "traceback": [
      "\u001b[0;31m---------------------------------------------------------------------------\u001b[0m",
      "\u001b[0;31mAttributeError\u001b[0m                            Traceback (most recent call last)",
      "\u001b[0;32m<ipython-input-3-f29a69514543>\u001b[0m in \u001b[0;36m<module>\u001b[0;34m\u001b[0m\n\u001b[1;32m     11\u001b[0m \u001b[0mh\u001b[0m \u001b[0;34m=\u001b[0m \u001b[0mir\u001b[0m\u001b[0;34m.\u001b[0m\u001b[0mhorizontal\u001b[0m\u001b[0;34m(\u001b[0m\u001b[0mtheta1\u001b[0m\u001b[0;34m,\u001b[0m\u001b[0mtheta3\u001b[0m\u001b[0;34m,\u001b[0m\u001b[0mtheta2min\u001b[0m\u001b[0;34m,\u001b[0m \u001b[0mtheta2max\u001b[0m\u001b[0;34m)\u001b[0m\u001b[0;34m\u001b[0m\u001b[0;34m\u001b[0m\u001b[0m\n\u001b[1;32m     12\u001b[0m \u001b[0;34m\"this plots the horizontal light coming out of the darkport\"\u001b[0m\u001b[0;34m\u001b[0m\u001b[0;34m\u001b[0m\u001b[0m\n\u001b[0;32m---> 13\u001b[0;31m \u001b[0mh\u001b[0m\u001b[0;34m.\u001b[0m\u001b[0msavefig\u001b[0m\u001b[0;34m(\u001b[0m\u001b[0;34m\"horizontal_darkport.png\"\u001b[0m\u001b[0;34m,\u001b[0m\u001b[0mdpi\u001b[0m\u001b[0;34m=\u001b[0m\u001b[0;36m600\u001b[0m\u001b[0;34m,\u001b[0m\u001b[0mpad_inches\u001b[0m\u001b[0;34m=\u001b[0m \u001b[0;36m0.25\u001b[0m\u001b[0;34m,\u001b[0m\u001b[0mbbox_inches\u001b[0m\u001b[0;34m=\u001b[0m\u001b[0;34m\"tight\"\u001b[0m\u001b[0;34m)\u001b[0m\u001b[0;34m\u001b[0m\u001b[0;34m\u001b[0m\u001b[0m\n\u001b[0m\u001b[1;32m     14\u001b[0m \u001b[0;31m# Intensity going to brightport\u001b[0m\u001b[0;34m\u001b[0m\u001b[0;34m\u001b[0m\u001b[0;34m\u001b[0m\u001b[0m\n\u001b[1;32m     15\u001b[0m \u001b[0;34m\u001b[0m\u001b[0m\n",
      "\u001b[0;31mAttributeError\u001b[0m: 'NoneType' object has no attribute 'savefig'"
     ]
    }
   ],
   "source": [
    "# Intesity going to darkport\n",
    "\n",
    "\n",
    "\n",
    "theta1 = 10\n",
    "theta3 = -40\n",
    "theta2min=0\n",
    "theta2max = 125\n",
    "\n",
    "\n",
    "h = ir.horizontal(theta1,theta3,theta2min, theta2max)\n",
    "\"this plots the horizontal light coming out of the darkport\"\n",
    "h.savefig(\"horizontal_darkport.png\",dpi=600,pad_inches= 0.25,bbox_inches=\"tight\")\n",
    "# Intensity going to brightport\n",
    "\n",
    "v = ir.vertical(theta1,theta3,theta2min, theta2max)\n",
    "\"this plots the vertical light coming out of the darkport\"\n",
    "v.savefig(\"vertical_darkport.png\",dpi=600,pad_inches=0.25,bbox_inches=\"tight\")\n",
    "\n",
    "s = ir.split(theta1,theta3,theta2min, theta2max)\n",
    "\"bright port minus dark ratio to total initial intensity\"\n",
    "s.savefig(\"difference_intensity.png\", dpi=600,pad_inches=0.25,bbox_inches=\"tight\")"
   ]
  },
  {
   "cell_type": "code",
   "execution_count": null,
   "metadata": {},
   "outputs": [],
   "source": [
    "theta1 = 20\n",
    "theta3 = -80\n",
    "theta2min=0\n",
    "theta2max = 150\n",
    "\n",
    "# THIS IS A GOOD SLOPE FOR SPLIT!!! LOOK FOR THINGS LIKE THIS!\n",
    "h = ir.horizontal(theta1,theta3,theta2min, theta2max)\n",
    "\"this plots the horizontal light coming out of the darkport\"\n",
    "h.savefig(\"horizontal_darkport.png\",dpi=600,pad_inches= 0.25,bbox_inches=\"tight\")\n",
    "# Intensity going to brightport\n",
    "\n",
    "v = ir.vertical(theta1,theta3,theta2min, theta2max)\n",
    "\"this plots the vertical light coming out of the darkport\"\n",
    "v.savefig(\"vertical_darkport.png\",dpi=600,pad_inches=0.25,bbox_inches=\"tight\")\n",
    "\n",
    "s = ir.split(theta1,theta3,theta2min, theta2max)\n",
    "\"bright port minus dark ratio to total initial intensity\"\n",
    "s.savefig(\"difference_intensity.png\", dpi=600,pad_inches=0.25,bbox_inches=\"tight\")"
   ]
  },
  {
   "cell_type": "code",
   "execution_count": null,
   "metadata": {},
   "outputs": [],
   "source": [
    "theta1 = -10\n",
    "theta3 = 40\n",
    "theta2min=0\n",
    "theta2max = 175\n",
    "\n",
    "\n",
    "h = ir.horizontal(theta1,theta3,theta2min, theta2max)\n",
    "\"this plots the horizontal light coming out of the darkport\"\n",
    "h.savefig(\"horizontal_darkport.png\",dpi=600,pad_inches= 0.25,bbox_inches=\"tight\")\n",
    "# Intensity going to brightport\n",
    "\n",
    "v = ir.vertical(theta1,theta3,theta2min, theta2max)\n",
    "\"this plots the vertical light coming out of the darkport\"\n",
    "v.savefig(\"vertical_darkport.png\",dpi=600,pad_inches=0.25,bbox_inches=\"tight\")\n",
    "\n",
    "s = ir.split(theta1,theta3,theta2min, theta2max)\n",
    "\"bright port minus dark ratio to total initial intensity\"\n",
    "s.savefig(\"difference_intensity.png\", dpi=600,pad_inches=0.25,bbox_inches=\"tight\")"
   ]
  },
  {
   "cell_type": "code",
   "execution_count": null,
   "metadata": {},
   "outputs": [],
   "source": [
    "theta1 = -80\n",
    "theta3 = 90\n",
    "theta2min=0\n",
    "theta2max = 175\n",
    "\n",
    "#ADJUST THETAMIN MAX AROUND INTERESTING PARTS! HOW DO THE ANGLES COORISPOND TO THE PATTERN IM SEEING GET INTUITION FOR IT\n",
    "\n",
    "h = ir.horizontal(theta1,theta3,theta2min, theta2max)\n",
    "\"this plots the horizontal light coming out of the darkport\"\n",
    "h.savefig(\"horizontal_darkport.png\",dpi=600,pad_inches= 0.25,bbox_inches=\"tight\")\n",
    "# Intesity going to brightport\n",
    "\n",
    "v = ir.vertical(theta1,theta3,theta2min, theta2max)\n",
    "\"this plots the vertical light coming out of the darkport\"\n",
    "v.savefig(\"vertical_darkport.png\",dpi=600,pad_inches=0.25,bbox_inches=\"tight\")\n",
    "\n",
    "s = ir.split(theta1,theta3,theta2min, theta2max)\n",
    "\"bright port minus dark ratio to total initial intensity\"\n",
    "s.savefig(\"difference_intensity.png\", dpi=600,pad_inches=0.25,bbox_inches=\"tight\")"
   ]
  },
  {
   "cell_type": "code",
   "execution_count": null,
   "metadata": {},
   "outputs": [],
   "source": []
  }
 ],
 "metadata": {
  "kernelspec": {
   "display_name": "Python 3",
   "language": "python",
   "name": "python3"
  },
  "language_info": {
   "codemirror_mode": {
    "name": "ipython",
    "version": 3
   },
   "file_extension": ".py",
   "mimetype": "text/x-python",
   "name": "python",
   "nbconvert_exporter": "python",
   "pygments_lexer": "ipython3",
   "version": "3.7.6"
  }
 },
 "nbformat": 4,
 "nbformat_minor": 4
}
